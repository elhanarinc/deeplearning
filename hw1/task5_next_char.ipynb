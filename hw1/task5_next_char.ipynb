{
 "cells": [
  {
   "cell_type": "markdown",
   "metadata": {},
   "source": [
    "# Neural Network for Regression (predict next character in a word) exercise\n",
    "\n",
    "*Complete and hand in this completed worksheet (including its outputs and any supporting code outside of the worksheet) with your assignment submission. For more details see the [HW page](http://kovan.ceng.metu.edu.tr/~sinan/DL/index.html) on the course website.*\n",
    "\n",
    "Having gained some experience with neural networks, let us train a network that predicts the next character given a set of characters in a text.\n",
    "\n",
    "All of your work for this exercise will be done in this notebook."
   ]
  },
  {
   "cell_type": "code",
   "execution_count": 1,
   "metadata": {
    "collapsed": false
   },
   "outputs": [],
   "source": [
    "import random\n",
    "import numpy as np\n",
    "from metu.data_utils import load_nextchar_dataset, plain_text_file_to_dataset\n",
    "import matplotlib.pyplot as plt\n",
    "%matplotlib inline\n",
    "plt.rcParams['figure.figsize'] = (10.0, 8.0) # set default size of plots\n",
    "plt.rcParams['image.interpolation'] = 'nearest'\n",
    "plt.rcParams['image.cmap'] = 'gray'\n",
    "\n",
    "# for auto-reloading extenrnal modules\n",
    "# see http://stackoverflow.com/questions/1907993/autoreload-of-modules-in-ipython\n",
    "%load_ext autoreload\n",
    "%autoreload 2\n",
    "\n",
    "def rel_error(x, y):\n",
    "  \"\"\" returns relative error \"\"\"\n",
    "  return np.max(np.abs(x - y) / (np.maximum(1e-8, np.abs(x) + np.abs(y))))"
   ]
  },
  {
   "cell_type": "code",
   "execution_count": 2,
   "metadata": {
    "collapsed": false
   },
   "outputs": [],
   "source": [
    "# Create a small net and some toy data to check your implementations.\n",
    "# Note that we set the random seed for repeatable experiments.\n",
    "from cs231n.classifiers.neural_net_for_regression import TwoLayerNet\n",
    "\n",
    "input_size = 4\n",
    "hidden_size = 10\n",
    "num_classes = 3\n",
    "num_inputs = 5\n",
    "\n",
    "def init_toy_model():\n",
    "  np.random.seed(0)\n",
    "  return TwoLayerNet(input_size, hidden_size, num_classes, std=1e-1)\n",
    "\n",
    "def init_toy_data():\n",
    "  np.random.seed(1)\n",
    "  X = 10 * np.random.randn(num_inputs, input_size)\n",
    "  y = np.array([[0, 1, 2], [1, 2, 3], [2, 3, 4], [2, 1, 4], [2, 1, 4]])\n",
    "  return X, y\n",
    "\n",
    "net = init_toy_model()\n",
    "X, y = init_toy_data()"
   ]
  },
  {
   "cell_type": "markdown",
   "metadata": {},
   "source": [
    "# Forward pass: compute scores\n",
    "Open the file `cs231n/classifiers/neural_net_for_regression.py` and look at the method `TwoLayerNet.loss`. This function is very similar to the loss functions you have written for the previous exercises: It takes the data and weights and computes the *regression* scores, the squared error loss, and the gradients on the parameters. \n",
    "\n",
    "To be more specific, you will implement the following loss function:\n",
    "\n",
    "$$\\frac{1}{2}\\sum_i (o_i - y_i)^2 + \\frac{1}{2}\\lambda\\sum_j w_j^2,$$\n",
    "\n",
    "where $i$ runs through the samples in the batch; $o_i$ is the prediction of the network for the $i^{th}$ sample, and $y_i$ is the correct character; $\\lambda$ is the weight of the regularization term.\n",
    "\n",
    "The first layer uses ReLU as the activation function. The output layer does not use any activation functions.\n",
    "\n",
    "Implement the first part of the forward pass which uses the weights and biases to compute the scores for all inputs."
   ]
  },
  {
   "cell_type": "code",
   "execution_count": 3,
   "metadata": {
    "collapsed": false
   },
   "outputs": [
    {
     "name": "stdout",
     "output_type": "stream",
     "text": [
      "Your scores:\n",
      "[[-0.81233741 -1.27654624 -0.70335995]\n",
      " [-0.17129677 -1.18803311 -0.47310444]\n",
      " [-0.51590475 -1.01354314 -0.8504215 ]\n",
      " [-0.15419291 -0.48629638 -0.52901952]\n",
      " [-0.00618733 -0.12435261 -0.15226949]]\n",
      "\n",
      "correct scores:\n",
      "[[-0.81233741 -1.27654624 -0.70335995]\n",
      " [-0.17129677 -1.18803311 -0.47310444]\n",
      " [-0.51590475 -1.01354314 -0.8504215 ]\n",
      " [-0.15419291 -0.48629638 -0.52901952]\n",
      " [-0.00618733 -0.12435261 -0.15226949]]\n",
      "\n",
      "Difference between your scores and correct scores:\n",
      "3.68027209255e-08\n"
     ]
    }
   ],
   "source": [
    "scores = net.loss(X)\n",
    "print 'Your scores:'\n",
    "print scores\n",
    "print\n",
    "print 'correct scores:'\n",
    "correct_scores = np.asarray([\n",
    "  [-0.81233741, -1.27654624, -0.70335995],\n",
    "  [-0.17129677, -1.18803311, -0.47310444],\n",
    "  [-0.51590475, -1.01354314, -0.8504215 ],\n",
    "  [-0.15419291, -0.48629638, -0.52901952],\n",
    "  [-0.00618733, -0.12435261, -0.15226949]])\n",
    "print correct_scores\n",
    "print\n",
    "\n",
    "# The difference should be very small. We get < 1e-7\n",
    "print 'Difference between your scores and correct scores:'\n",
    "print np.sum(np.abs(scores - correct_scores))"
   ]
  },
  {
   "cell_type": "markdown",
   "metadata": {},
   "source": [
    "# Forward pass: compute loss\n",
    "In the same function, implement the second part that computes the data and regularizaion loss."
   ]
  },
  {
   "cell_type": "code",
   "execution_count": 4,
   "metadata": {
    "collapsed": false
   },
   "outputs": [
    {
     "name": "stdout",
     "output_type": "stream",
     "text": [
      "Difference between your loss and correct loss:\n",
      "2.54800625044e-11\n"
     ]
    }
   ],
   "source": [
    "loss, _ = net.loss(X, y, reg=0.1)\n",
    "correct_loss = 66.3406756909\n",
    "\n",
    "# should be very small, we get < 1e-10\n",
    "print 'Difference between your loss and correct loss:'\n",
    "print np.sum(np.abs(loss - correct_loss))"
   ]
  },
  {
   "cell_type": "markdown",
   "metadata": {},
   "source": [
    "# Backward pass\n",
    "Implement the rest of the function. This will compute the gradient of the loss with respect to the variables `W1`, `b1`, `W2`, and `b2`. Now that you (hopefully!) have a correctly implemented forward pass, you can debug your backward pass using a numeric gradient check:"
   ]
  },
  {
   "cell_type": "code",
   "execution_count": 5,
   "metadata": {
    "collapsed": false
   },
   "outputs": [
    {
     "name": "stdout",
     "output_type": "stream",
     "text": [
      "b2 max relative error: 1.443387e-06\n",
      "W2 max relative error: 3.755046e-04\n",
      "W1 max relative error: 5.463838e-04\n",
      "b1 max relative error: 2.188996e-07\n"
     ]
    }
   ],
   "source": [
    "from cs231n.gradient_check import eval_numerical_gradient\n",
    "\n",
    "# Use numeric gradient checking to check your implementation of the backward pass.\n",
    "# If your implementation is correct, the difference between the numeric and\n",
    "# analytic gradients should be less than 1e-8 for each of W1, W2, b1, and b2.\n",
    "\n",
    "loss, grads = net.loss(X, y, reg=0.1)\n",
    "\n",
    "# these should all be less than 1e-8 or so\n",
    "for param_name in grads:\n",
    "  f = lambda W: net.loss(X, y, reg=0.1)[0]\n",
    "  param_grad_num = eval_numerical_gradient(f, net.params[param_name])\n",
    "  print '%s max relative error: %e' % (param_name, rel_error(param_grad_num, grads[param_name]))"
   ]
  },
  {
   "cell_type": "markdown",
   "metadata": {},
   "source": [
    "# Load a dataset for training a simple regression network"
   ]
  },
  {
   "cell_type": "code",
   "execution_count": 6,
   "metadata": {
    "collapsed": false
   },
   "outputs": [
    {
     "name": "stdout",
     "output_type": "stream",
     "text": [
      "Converting plain text file to trainable dataset (as pickle file)\n",
      "Processing file metu/dataset/shakespeare.txt as input\n",
      "input_size parameter (i.e. num of neurons) will be 5\n",
      "Writing data and labels to file metu/dataset/nextchar_data.pkl\n",
      "Loading X and Y from pickle file metu/dataset/nextchar_data.pkl\n",
      "Number of instances in the training set:  37647\n",
      "Number of instances in the validation set:  3764\n",
      "Number of instances in the testing set:  22589\n"
     ]
    }
   ],
   "source": [
    "# Load the TEXT data\n",
    "# If your memory turns out to be sufficient, try the following:\n",
    "#def get_nextchar_data(training_ratio=0.6, val_ratio=0.1):\n",
    "def get_nextchar_data(training_ratio=0.1, test_ratio=0.06, val_ratio=0.01):\n",
    "  # Load the nextchar training data \n",
    "  X, y = load_nextchar_dataset(nextchar_datafile)\n",
    "  # Subsample the data\n",
    "  length=len(y)\n",
    "  num_training=int(length*training_ratio)\n",
    "  num_val = int(length*val_ratio)\n",
    "  num_test = min((length-num_training-num_val), int(length*test_ratio))\n",
    "  mask = range(num_training-1)\n",
    "  X_train = X[mask]\n",
    "  y_train = y[mask]\n",
    "  mask = range(num_training, num_training+num_test)\n",
    "  X_test = X[mask]\n",
    "  y_test = y[mask]\n",
    "  mask = range(num_training+num_test, num_training+num_test+num_val)\n",
    "  X_val = X[mask]\n",
    "  y_val = y[mask]\n",
    "\n",
    "  return X_train, y_train, X_val, y_val, X_test, y_test\n",
    "\n",
    "nextchar_datafile = 'metu/dataset/nextchar_data.pkl'\n",
    "input_size = 5 # Size of the input of the network\n",
    "#plain_text_file_to_dataset(\"metu/dataset/ince_memed_1.txt\", nextchar_datafile, input_size)\n",
    "plain_text_file_to_dataset(\"metu/dataset/shakespeare.txt\", nextchar_datafile, input_size)\n",
    "X_train, y_train, X_val, y_val, X_test, y_test = get_nextchar_data()\n",
    "print \"Number of instances in the training set: \", len(X_train)\n",
    "print \"Number of instances in the validation set: \", len(X_val)\n",
    "print \"Number of instances in the testing set: \", len(X_test)"
   ]
  },
  {
   "cell_type": "code",
   "execution_count": 7,
   "metadata": {
    "collapsed": false
   },
   "outputs": [
    {
     "name": "stdout",
     "output_type": "stream",
     "text": [
      "Input - Next char to be predicted\n",
      "HE SO - N\n",
      "E SON - N\n",
      " SONN - E\n",
      "SONNE - T\n",
      "ONNET - S\n",
      "by Wi - l\n",
      "y Wil - l\n",
      " Will - i\n",
      "Willi - a\n"
     ]
    }
   ],
   "source": [
    "# We have loaded the dataset. That wasn't difficult, was it? :)\n",
    "# Let's look at a few samples\n",
    "#\n",
    "from metu.data_utils import int_list_to_string, int_to_charstr\n",
    "\n",
    "print \"Input - Next char to be predicted\"\n",
    "for i in range(1,10):\n",
    "    print int_list_to_string(X_train[i]) + \" - \" + int_list_to_string(y_train[i])"
   ]
  },
  {
   "cell_type": "markdown",
   "metadata": {},
   "source": [
    "# Now train our network on the nextchar dataset"
   ]
  },
  {
   "cell_type": "code",
   "execution_count": 11,
   "metadata": {
    "collapsed": false,
    "scrolled": false
   },
   "outputs": [
    {
     "name": "stdout",
     "output_type": "stream",
     "text": [
      "iteration 0 / 5000: loss 37187.627088\n",
      "iteration 100 / 5000: loss 41618.726517\n",
      "iteration 200 / 5000: loss 46902.052758\n",
      "iteration 300 / 5000: loss 36600.527110\n",
      "iteration 400 / 5000: loss 41589.205666\n",
      "iteration 500 / 5000: loss 31541.751631\n",
      "iteration 600 / 5000: loss 31119.044458\n",
      "iteration 700 / 5000: loss 12565.962976\n",
      "iteration 800 / 5000: loss 6146.395640\n",
      "iteration 900 / 5000: loss 9413.233288\n",
      "iteration 1000 / 5000: loss 3986.842478\n",
      "iteration 1100 / 5000: loss 5945.184059\n",
      "iteration 1200 / 5000: loss 3789.734761\n",
      "iteration 1300 / 5000: loss 2967.399594\n",
      "iteration 1400 / 5000: loss 2646.505533\n",
      "iteration 1500 / 5000: loss 9239.648860\n",
      "iteration 1600 / 5000: loss 3592.429379\n",
      "iteration 1700 / 5000: loss 2670.583491\n",
      "iteration 1800 / 5000: loss 4167.035028\n",
      "iteration 1900 / 5000: loss 7859.230652\n",
      "iteration 2000 / 5000: loss 6017.866565\n",
      "iteration 2100 / 5000: loss 4559.230080\n",
      "iteration 2200 / 5000: loss 8136.270938\n",
      "iteration 2300 / 5000: loss 3252.340444\n",
      "iteration 2400 / 5000: loss 4012.090902\n",
      "iteration 2500 / 5000: loss 4746.028781\n",
      "iteration 2600 / 5000: loss 8483.978028\n",
      "iteration 2700 / 5000: loss 5017.726786\n",
      "iteration 2800 / 5000: loss 4042.929465\n",
      "iteration 2900 / 5000: loss 3914.886132\n",
      "iteration 3000 / 5000: loss 7066.623585\n",
      "iteration 3100 / 5000: loss 3945.676086\n",
      "iteration 3200 / 5000: loss 2572.354229\n",
      "iteration 3300 / 5000: loss 8038.788218\n",
      "iteration 3400 / 5000: loss 3308.024057\n",
      "iteration 3500 / 5000: loss 2014.494111\n",
      "iteration 3600 / 5000: loss 7834.911911\n",
      "iteration 3700 / 5000: loss 10903.330360\n",
      "iteration 3800 / 5000: loss 6081.799788\n",
      "iteration 3900 / 5000: loss 4385.050331\n",
      "iteration 4000 / 5000: loss 7161.139516\n",
      "iteration 4100 / 5000: loss 8551.790565\n",
      "iteration 4200 / 5000: loss 4642.509062\n",
      "iteration 4300 / 5000: loss 6862.383058\n",
      "iteration 4400 / 5000: loss 5831.306760\n",
      "iteration 4500 / 5000: loss 3119.450593\n",
      "iteration 4600 / 5000: loss 6816.734796\n",
      "iteration 4700 / 5000: loss 4948.666394\n",
      "iteration 4800 / 5000: loss 5588.350683\n",
      "iteration 4900 / 5000: loss 1988.397866\n",
      "Validation error:  1183.48096604\n"
     ]
    }
   ],
   "source": [
    "# Now, let's train a neural network\n",
    "\n",
    "input_size = input_size\n",
    "hidden_size = 10000\n",
    "num_classes = 1\n",
    "net = TwoLayerNet(input_size, hidden_size, num_classes)\n",
    "\n",
    "# Train the network\n",
    "stats = net.train(X_train, y_train, X_val, y_val,\n",
    "            num_iters=5000, batch_size=10,\n",
    "            learning_rate=5e-8, learning_rate_decay=0.85,\n",
    "            reg=0.5, verbose=True)\n",
    "\n",
    "# Predict on the validation set\n",
    "val_err = np.sum(np.square(net.predict(X_val) - y_val), axis=1).mean()\n",
    "print 'Validation error: ', val_err"
   ]
  },
  {
   "cell_type": "markdown",
   "metadata": {},
   "source": [
    "# Debug the training\n",
    "I have managed to get a loss below 10,000 and a validation error of about 1100 on the validation set (by playing around the parameters a little bit). However, this isn't very good.\n",
    "\n",
    "One strategy for getting insight into what's wrong is to plot the loss function and the accuracies on the training and validation sets during optimization."
   ]
  },
  {
   "cell_type": "code",
   "execution_count": 12,
   "metadata": {
    "collapsed": false
   },
   "outputs": [
    {
     "data": {
      "image/png": "[encoded data removed]",
      "text/plain": [
       "<matplotlib.figure.Figure at 0x7f0c79e3b350>"
      ]
     },
     "metadata": {},
     "output_type": "display_data"
    }
   ],
   "source": [
    "# Plot the loss function and train / validation errors\n",
    "plt.subplot(2, 1, 1)\n",
    "plt.plot(stats['loss_history'])\n",
    "plt.title('Loss history')\n",
    "plt.xlabel('Iteration')\n",
    "plt.ylabel('Loss')\n",
    "\n",
    "plt.subplot(2, 1, 2)\n",
    "train = plt.plot(stats['train_err_history'], label='train')\n",
    "val = plt.plot(stats['val_err_history'], label='val')\n",
    "plt.legend(loc='upper right', shadow=True)\n",
    "plt.title('Classification error history')\n",
    "plt.xlabel('Epoch')\n",
    "plt.ylabel('Clasification error')\n",
    "plt.show()"
   ]
  },
  {
   "cell_type": "code",
   "execution_count": 13,
   "metadata": {
    "collapsed": false
   },
   "outputs": [
    {
     "name": "stdout",
     "output_type": "stream",
     "text": [
      "Input - predicted char - true char\n",
      " mark - Z -  \n",
      "mark  - \\ - t\n",
      "ark t - ` - h\n",
      "rk th - ^ - e\n",
      "k the - \\ -  \n",
      " the  - L - m\n",
      "the m - ` - a\n",
      "he ma - X - n\n",
      "e man - Z - n\n"
     ]
    }
   ],
   "source": [
    "# Show some sample outputs:\n",
    "\n",
    "print \"Input - predicted char - true char\"\n",
    "for i in range(1,10):\n",
    "    print int_list_to_string(X_val[i]) + \" - \"  \\\n",
    "        + int_list_to_string([int(x) for x in net.predict(X_val[i])]) \\\n",
    "        + \" - \" + int_list_to_string(y_val[i])"
   ]
  },
  {
   "cell_type": "code",
   "execution_count": null,
   "metadata": {
    "collapsed": true
   },
   "outputs": [],
   "source": []
  }
 ],
 "metadata": {
  "kernelspec": {
   "display_name": "Python 2",
   "language": "python",
   "name": "python2"
  },
  "language_info": {
   "codemirror_mode": {
    "name": "ipython",
    "version": 2
   },
   "file_extension": ".py",
   "mimetype": "text/x-python",
   "name": "python",
   "nbconvert_exporter": "python",
   "pygments_lexer": "ipython2",
   "version": "2.7.13"
  }
 },
 "nbformat": 4,
 "nbformat_minor": 0
}
